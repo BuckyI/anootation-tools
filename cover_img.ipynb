{
 "cells": [
  {
   "cell_type": "code",
   "execution_count": 1,
   "metadata": {},
   "outputs": [],
   "source": [
    "import cv2\n",
    "import matplotlib.pyplot as plt\n",
    "from pycocotools.coco import COCO\n",
    "import numpy as np\n",
    "from pathlib import Path"
   ]
  },
  {
   "cell_type": "code",
   "execution_count": 9,
   "metadata": {},
   "outputs": [],
   "source": [
    "# 设置路径\n",
    "root = Path(\"data/small\")\n",
    "ann = root / \"annotation.json\"\n",
    "img_prefix = root / \"images\"\n",
    "cat_name = \"0\""
   ]
  },
  {
   "cell_type": "code",
   "execution_count": 17,
   "metadata": {},
   "outputs": [],
   "source": [
    "# 初始化 coco 数据集的 API\n",
    "coco = COCO(ann)\n",
    "total_imgs = len(coco.dataset[\"images\"])\n",
    "\n",
    "for img_id in range(total_imgs):\n",
    "    # 对于每张图片，根据 id 获得图片的路径\n",
    "    img_name = coco.loadImgs(img_id)[0][\"file_name\"]\n",
    "    path = img_prefix / img_name\n",
    "    img = cv2.imread(str(path))  # 读取得到 3 维 numpy\n",
    "\n",
    "    # 根据名称得到 category，在这里是前景叶子的 0\n",
    "    cat_id = coco.getCatIds(catNms=[cat_name])\n",
    "\n",
    "    # 根据图片 id 和 category id 获得所有标注 ann\n",
    "    ann_ids = coco.getAnnIds(imgIds=img_id, catIds=cat_id)\n",
    "    anns = coco.loadAnns(ann_ids)\n",
    "\n",
    "    # 创建标签为 0 的区域的遮罩矩阵（二值化）\n",
    "    mask = np.zeros(img.shape[0:2], dtype=np.int0)\n",
    "    for ann in anns:\n",
    "        mask = mask | (coco.annToMask(ann) > 0)  # bitwise_or\n",
    "    covered_img = img * mask[:, :, np.newaxis]\n",
    "    # plt.imshow(covered_img)  # 显示遮罩矩阵\n",
    "\n",
    "    # save\n",
    "    dest = root / \"covered\" / img_name\n",
    "    dest.parent.mkdir(exist_ok=True)\n",
    "    cv2.imwrite(str(dest), covered_img)"
   ]
  }
 ],
 "metadata": {
  "kernelspec": {
   "display_name": "Python 3.9.13 ('base')",
   "language": "python",
   "name": "python3"
  },
  "language_info": {
   "codemirror_mode": {
    "name": "ipython",
    "version": 3
   },
   "file_extension": ".py",
   "mimetype": "text/x-python",
   "name": "python",
   "nbconvert_exporter": "python",
   "pygments_lexer": "ipython3",
   "version": "3.9.13"
  },
  "orig_nbformat": 4,
  "vscode": {
   "interpreter": {
    "hash": "a5d6c2be6262c78dadbf075e7ed7eef3fc1090c1044fdcff36d11e01ba01e819"
   }
  }
 },
 "nbformat": 4,
 "nbformat_minor": 2
}
